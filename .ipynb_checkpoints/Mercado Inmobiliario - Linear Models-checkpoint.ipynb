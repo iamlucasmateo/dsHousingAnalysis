{
 "cells": [
  {
   "cell_type": "code",
   "execution_count": 354,
   "metadata": {},
   "outputs": [],
   "source": [
    "import pandas as pd\n",
    "import numpy as np\n",
    "from sklearn.preprocessing import StandardScaler\n",
    "from sklearn.linear_model import LinearRegression, Ridge\n",
    "from sklearn.metrics import mean_squared_error,r2_score\n",
    "from sklearn.model_selection import train_test_split,cross_val_score, GridSearchCV,cross_validate\n",
    "from sklearn.pipeline import Pipeline"
   ]
  },
  {
   "cell_type": "markdown",
   "metadata": {},
   "source": [
    "A continuación importaremos nuestro dataset, y haremos un poco de feature engineering, agregando un feature con características más \"lineales\". "
   ]
  },
  {
   "cell_type": "code",
   "execution_count": 485,
   "metadata": {},
   "outputs": [
    {
     "data": {
      "text/html": [
       "<div>\n",
       "<style scoped>\n",
       "    .dataframe tbody tr th:only-of-type {\n",
       "        vertical-align: middle;\n",
       "    }\n",
       "\n",
       "    .dataframe tbody tr th {\n",
       "        vertical-align: top;\n",
       "    }\n",
       "\n",
       "    .dataframe thead th {\n",
       "        text-align: right;\n",
       "    }\n",
       "</style>\n",
       "<table border=\"1\" class=\"dataframe\">\n",
       "  <thead>\n",
       "    <tr style=\"text-align: right;\">\n",
       "      <th></th>\n",
       "      <th>lat</th>\n",
       "      <th>lon</th>\n",
       "      <th>price_aprox_usd</th>\n",
       "      <th>surface_total_in_m2</th>\n",
       "      <th>surface_covered_in_m2</th>\n",
       "      <th>rooms</th>\n",
       "      <th>barrio_match</th>\n",
       "      <th>PH</th>\n",
       "      <th>apartment</th>\n",
       "      <th>house</th>\n",
       "      <th>...</th>\n",
       "      <th>VILLA PUEYRREDON</th>\n",
       "      <th>VILLA REAL</th>\n",
       "      <th>VILLA RIACHUELO</th>\n",
       "      <th>VILLA SANTA RITA</th>\n",
       "      <th>VILLA SOLDATI</th>\n",
       "      <th>VILLA URQUIZA</th>\n",
       "      <th>outlier_price_m2</th>\n",
       "      <th>distance_BP</th>\n",
       "      <th>surface_uncovered_in_m2</th>\n",
       "      <th>price_per_usd</th>\n",
       "    </tr>\n",
       "  </thead>\n",
       "  <tbody>\n",
       "    <tr>\n",
       "      <td>0</td>\n",
       "      <td>-34.647410</td>\n",
       "      <td>-58.521395</td>\n",
       "      <td>143000.0</td>\n",
       "      <td>77.0</td>\n",
       "      <td>60.0</td>\n",
       "      <td>3.0</td>\n",
       "      <td>1.0</td>\n",
       "      <td>0.0</td>\n",
       "      <td>1.0</td>\n",
       "      <td>0.0</td>\n",
       "      <td>...</td>\n",
       "      <td>0.0</td>\n",
       "      <td>0.0</td>\n",
       "      <td>0.0</td>\n",
       "      <td>0.0</td>\n",
       "      <td>0.0</td>\n",
       "      <td>0.0</td>\n",
       "      <td>0.0</td>\n",
       "      <td>7406.012963</td>\n",
       "      <td>17.0</td>\n",
       "      <td>1857.142857</td>\n",
       "    </tr>\n",
       "    <tr>\n",
       "      <td>1</td>\n",
       "      <td>-34.652653</td>\n",
       "      <td>-58.388117</td>\n",
       "      <td>85000.0</td>\n",
       "      <td>80.0</td>\n",
       "      <td>53.0</td>\n",
       "      <td>3.0</td>\n",
       "      <td>0.0</td>\n",
       "      <td>1.0</td>\n",
       "      <td>0.0</td>\n",
       "      <td>0.0</td>\n",
       "      <td>...</td>\n",
       "      <td>0.0</td>\n",
       "      <td>0.0</td>\n",
       "      <td>0.0</td>\n",
       "      <td>0.0</td>\n",
       "      <td>0.0</td>\n",
       "      <td>0.0</td>\n",
       "      <td>0.0</td>\n",
       "      <td>2845.153498</td>\n",
       "      <td>27.0</td>\n",
       "      <td>1062.500000</td>\n",
       "    </tr>\n",
       "    <tr>\n",
       "      <td>2</td>\n",
       "      <td>-34.588999</td>\n",
       "      <td>-58.405147</td>\n",
       "      <td>118000.0</td>\n",
       "      <td>30.0</td>\n",
       "      <td>30.0</td>\n",
       "      <td>1.0</td>\n",
       "      <td>1.0</td>\n",
       "      <td>0.0</td>\n",
       "      <td>1.0</td>\n",
       "      <td>0.0</td>\n",
       "      <td>...</td>\n",
       "      <td>0.0</td>\n",
       "      <td>0.0</td>\n",
       "      <td>0.0</td>\n",
       "      <td>0.0</td>\n",
       "      <td>0.0</td>\n",
       "      <td>0.0</td>\n",
       "      <td>0.0</td>\n",
       "      <td>14175.989636</td>\n",
       "      <td>0.0</td>\n",
       "      <td>3933.333333</td>\n",
       "    </tr>\n",
       "    <tr>\n",
       "      <td>3</td>\n",
       "      <td>-34.569828</td>\n",
       "      <td>-58.450554</td>\n",
       "      <td>111167.0</td>\n",
       "      <td>39.0</td>\n",
       "      <td>34.0</td>\n",
       "      <td>3.0</td>\n",
       "      <td>0.0</td>\n",
       "      <td>0.0</td>\n",
       "      <td>1.0</td>\n",
       "      <td>0.0</td>\n",
       "      <td>...</td>\n",
       "      <td>0.0</td>\n",
       "      <td>0.0</td>\n",
       "      <td>0.0</td>\n",
       "      <td>0.0</td>\n",
       "      <td>0.0</td>\n",
       "      <td>0.0</td>\n",
       "      <td>0.0</td>\n",
       "      <td>3846.238037</td>\n",
       "      <td>5.0</td>\n",
       "      <td>2850.435897</td>\n",
       "    </tr>\n",
       "    <tr>\n",
       "      <td>4</td>\n",
       "      <td>-34.620320</td>\n",
       "      <td>-58.505718</td>\n",
       "      <td>90000.0</td>\n",
       "      <td>45.0</td>\n",
       "      <td>36.0</td>\n",
       "      <td>3.0</td>\n",
       "      <td>1.0</td>\n",
       "      <td>0.0</td>\n",
       "      <td>1.0</td>\n",
       "      <td>0.0</td>\n",
       "      <td>...</td>\n",
       "      <td>0.0</td>\n",
       "      <td>0.0</td>\n",
       "      <td>0.0</td>\n",
       "      <td>0.0</td>\n",
       "      <td>0.0</td>\n",
       "      <td>0.0</td>\n",
       "      <td>0.0</td>\n",
       "      <td>10221.888433</td>\n",
       "      <td>9.0</td>\n",
       "      <td>2000.000000</td>\n",
       "    </tr>\n",
       "    <tr>\n",
       "      <td>...</td>\n",
       "      <td>...</td>\n",
       "      <td>...</td>\n",
       "      <td>...</td>\n",
       "      <td>...</td>\n",
       "      <td>...</td>\n",
       "      <td>...</td>\n",
       "      <td>...</td>\n",
       "      <td>...</td>\n",
       "      <td>...</td>\n",
       "      <td>...</td>\n",
       "      <td>...</td>\n",
       "      <td>...</td>\n",
       "      <td>...</td>\n",
       "      <td>...</td>\n",
       "      <td>...</td>\n",
       "      <td>...</td>\n",
       "      <td>...</td>\n",
       "      <td>...</td>\n",
       "      <td>...</td>\n",
       "      <td>...</td>\n",
       "      <td>...</td>\n",
       "    </tr>\n",
       "    <tr>\n",
       "      <td>6371</td>\n",
       "      <td>-34.648582</td>\n",
       "      <td>-58.460665</td>\n",
       "      <td>89000.0</td>\n",
       "      <td>75.0</td>\n",
       "      <td>75.0</td>\n",
       "      <td>3.0</td>\n",
       "      <td>1.0</td>\n",
       "      <td>1.0</td>\n",
       "      <td>0.0</td>\n",
       "      <td>0.0</td>\n",
       "      <td>...</td>\n",
       "      <td>0.0</td>\n",
       "      <td>0.0</td>\n",
       "      <td>0.0</td>\n",
       "      <td>0.0</td>\n",
       "      <td>0.0</td>\n",
       "      <td>0.0</td>\n",
       "      <td>0.0</td>\n",
       "      <td>3733.201228</td>\n",
       "      <td>0.0</td>\n",
       "      <td>1186.666667</td>\n",
       "    </tr>\n",
       "    <tr>\n",
       "      <td>6372</td>\n",
       "      <td>-34.628820</td>\n",
       "      <td>-58.480889</td>\n",
       "      <td>83000.0</td>\n",
       "      <td>37.0</td>\n",
       "      <td>37.0</td>\n",
       "      <td>2.0</td>\n",
       "      <td>1.0</td>\n",
       "      <td>0.0</td>\n",
       "      <td>1.0</td>\n",
       "      <td>0.0</td>\n",
       "      <td>...</td>\n",
       "      <td>0.0</td>\n",
       "      <td>0.0</td>\n",
       "      <td>0.0</td>\n",
       "      <td>0.0</td>\n",
       "      <td>0.0</td>\n",
       "      <td>0.0</td>\n",
       "      <td>0.0</td>\n",
       "      <td>9752.054152</td>\n",
       "      <td>0.0</td>\n",
       "      <td>2243.243243</td>\n",
       "    </tr>\n",
       "    <tr>\n",
       "      <td>6373</td>\n",
       "      <td>-34.602128</td>\n",
       "      <td>-58.420057</td>\n",
       "      <td>149000.0</td>\n",
       "      <td>67.0</td>\n",
       "      <td>67.0</td>\n",
       "      <td>3.0</td>\n",
       "      <td>1.0</td>\n",
       "      <td>0.0</td>\n",
       "      <td>1.0</td>\n",
       "      <td>0.0</td>\n",
       "      <td>...</td>\n",
       "      <td>0.0</td>\n",
       "      <td>0.0</td>\n",
       "      <td>0.0</td>\n",
       "      <td>0.0</td>\n",
       "      <td>0.0</td>\n",
       "      <td>0.0</td>\n",
       "      <td>0.0</td>\n",
       "      <td>6400.598335</td>\n",
       "      <td>0.0</td>\n",
       "      <td>2223.880597</td>\n",
       "    </tr>\n",
       "    <tr>\n",
       "      <td>6374</td>\n",
       "      <td>-34.601632</td>\n",
       "      <td>-58.464881</td>\n",
       "      <td>79000.0</td>\n",
       "      <td>35.0</td>\n",
       "      <td>35.0</td>\n",
       "      <td>2.0</td>\n",
       "      <td>1.0</td>\n",
       "      <td>0.0</td>\n",
       "      <td>1.0</td>\n",
       "      <td>0.0</td>\n",
       "      <td>...</td>\n",
       "      <td>0.0</td>\n",
       "      <td>0.0</td>\n",
       "      <td>0.0</td>\n",
       "      <td>0.0</td>\n",
       "      <td>0.0</td>\n",
       "      <td>0.0</td>\n",
       "      <td>0.0</td>\n",
       "      <td>14217.400213</td>\n",
       "      <td>0.0</td>\n",
       "      <td>2257.142857</td>\n",
       "    </tr>\n",
       "    <tr>\n",
       "      <td>6375</td>\n",
       "      <td>-34.628487</td>\n",
       "      <td>-58.400443</td>\n",
       "      <td>140000.0</td>\n",
       "      <td>75.0</td>\n",
       "      <td>56.0</td>\n",
       "      <td>3.0</td>\n",
       "      <td>0.0</td>\n",
       "      <td>1.0</td>\n",
       "      <td>0.0</td>\n",
       "      <td>0.0</td>\n",
       "      <td>...</td>\n",
       "      <td>0.0</td>\n",
       "      <td>0.0</td>\n",
       "      <td>0.0</td>\n",
       "      <td>0.0</td>\n",
       "      <td>0.0</td>\n",
       "      <td>0.0</td>\n",
       "      <td>0.0</td>\n",
       "      <td>8294.608673</td>\n",
       "      <td>19.0</td>\n",
       "      <td>1866.666667</td>\n",
       "    </tr>\n",
       "  </tbody>\n",
       "</table>\n",
       "<p>6112 rows × 62 columns</p>\n",
       "</div>"
      ],
      "text/plain": [
       "            lat        lon  price_aprox_usd  surface_total_in_m2  \\\n",
       "0    -34.647410 -58.521395         143000.0                 77.0   \n",
       "1    -34.652653 -58.388117          85000.0                 80.0   \n",
       "2    -34.588999 -58.405147         118000.0                 30.0   \n",
       "3    -34.569828 -58.450554         111167.0                 39.0   \n",
       "4    -34.620320 -58.505718          90000.0                 45.0   \n",
       "...         ...        ...              ...                  ...   \n",
       "6371 -34.648582 -58.460665          89000.0                 75.0   \n",
       "6372 -34.628820 -58.480889          83000.0                 37.0   \n",
       "6373 -34.602128 -58.420057         149000.0                 67.0   \n",
       "6374 -34.601632 -58.464881          79000.0                 35.0   \n",
       "6375 -34.628487 -58.400443         140000.0                 75.0   \n",
       "\n",
       "      surface_covered_in_m2  rooms  barrio_match   PH  apartment  house  ...  \\\n",
       "0                      60.0    3.0           1.0  0.0        1.0    0.0  ...   \n",
       "1                      53.0    3.0           0.0  1.0        0.0    0.0  ...   \n",
       "2                      30.0    1.0           1.0  0.0        1.0    0.0  ...   \n",
       "3                      34.0    3.0           0.0  0.0        1.0    0.0  ...   \n",
       "4                      36.0    3.0           1.0  0.0        1.0    0.0  ...   \n",
       "...                     ...    ...           ...  ...        ...    ...  ...   \n",
       "6371                   75.0    3.0           1.0  1.0        0.0    0.0  ...   \n",
       "6372                   37.0    2.0           1.0  0.0        1.0    0.0  ...   \n",
       "6373                   67.0    3.0           1.0  0.0        1.0    0.0  ...   \n",
       "6374                   35.0    2.0           1.0  0.0        1.0    0.0  ...   \n",
       "6375                   56.0    3.0           0.0  1.0        0.0    0.0  ...   \n",
       "\n",
       "      VILLA PUEYRREDON  VILLA REAL  VILLA RIACHUELO  VILLA SANTA RITA  \\\n",
       "0                  0.0         0.0              0.0               0.0   \n",
       "1                  0.0         0.0              0.0               0.0   \n",
       "2                  0.0         0.0              0.0               0.0   \n",
       "3                  0.0         0.0              0.0               0.0   \n",
       "4                  0.0         0.0              0.0               0.0   \n",
       "...                ...         ...              ...               ...   \n",
       "6371               0.0         0.0              0.0               0.0   \n",
       "6372               0.0         0.0              0.0               0.0   \n",
       "6373               0.0         0.0              0.0               0.0   \n",
       "6374               0.0         0.0              0.0               0.0   \n",
       "6375               0.0         0.0              0.0               0.0   \n",
       "\n",
       "      VILLA SOLDATI  VILLA URQUIZA  outlier_price_m2   distance_BP  \\\n",
       "0               0.0            0.0               0.0   7406.012963   \n",
       "1               0.0            0.0               0.0   2845.153498   \n",
       "2               0.0            0.0               0.0  14175.989636   \n",
       "3               0.0            0.0               0.0   3846.238037   \n",
       "4               0.0            0.0               0.0  10221.888433   \n",
       "...             ...            ...               ...           ...   \n",
       "6371            0.0            0.0               0.0   3733.201228   \n",
       "6372            0.0            0.0               0.0   9752.054152   \n",
       "6373            0.0            0.0               0.0   6400.598335   \n",
       "6374            0.0            0.0               0.0  14217.400213   \n",
       "6375            0.0            0.0               0.0   8294.608673   \n",
       "\n",
       "      surface_uncovered_in_m2  price_per_usd  \n",
       "0                        17.0    1857.142857  \n",
       "1                        27.0    1062.500000  \n",
       "2                         0.0    3933.333333  \n",
       "3                         5.0    2850.435897  \n",
       "4                         9.0    2000.000000  \n",
       "...                       ...            ...  \n",
       "6371                      0.0    1186.666667  \n",
       "6372                      0.0    2243.243243  \n",
       "6373                      0.0    2223.880597  \n",
       "6374                      0.0    2257.142857  \n",
       "6375                     19.0    1866.666667  \n",
       "\n",
       "[6112 rows x 62 columns]"
      ]
     },
     "execution_count": 485,
     "metadata": {},
     "output_type": "execute_result"
    }
   ],
   "source": [
    "df = pd.read_csv('datos_properati_limpios_model.csv')\n",
    "\n",
    "# Coordenadas Barrio Parque (MALBA) -34.576627, -58.403652\n",
    "lat_bp = -34.576627\n",
    "lon_bp = -58.403652\n",
    "\n",
    "def distance_bp(lat, lon):\n",
    "    deg_len = 110250 # largo de un grado en el Ecuador (metros)\n",
    "    x = lat_bp - lat\n",
    "    y = (lon_bp - lon)*np.cos((lat_bp+lat)/2)\n",
    "    return deg_len*np.sqrt(np.power(x,2) + np.power(y,2))\n",
    "\n",
    "df['distance_BP'] = distance_bp(df2.lat,df2.lon)\n",
    "df['surface_uncovered_in_m2'] = df['surface_total_in_m2'] - df['surface_covered_in_m2']\n",
    "df['price_per_usd'] = df['price_aprox_usd'] / df['surface_total_in_m2']\n",
    "\n",
    "# Shuffleamos\n",
    "np.random.seed(seed=12)\n",
    "df_perm = np.random.permutation(df)\n",
    "df = pd.DataFrame(df_perm,columns=df.columns)\n",
    "\n",
    "# Borramos instancias con errores\n",
    "error_index = df[df.surface_uncovered_in_m2 < 0].index\n",
    "df.drop(error_index,inplace=True)\n",
    "df"
   ]
  },
  {
   "cell_type": "code",
   "execution_count": 503,
   "metadata": {},
   "outputs": [
    {
     "data": {
      "text/plain": [
       "<matplotlib.collections.PathCollection at 0x29c9f1403c8>"
      ]
     },
     "execution_count": 503,
     "metadata": {},
     "output_type": "execute_result"
    },
    {
     "data": {
      "image/png": "[encoded data removed]",
      "text/plain": [
       "<Figure size 432x288 with 1 Axes>"
      ]
     },
     "metadata": {
      "needs_background": "light"
     },
     "output_type": "display_data"
    }
   ],
   "source": [
    "plt.scatter(df.distance_BP,df.price_per_usd)"
   ]
  },
  {
   "cell_type": "markdown",
   "metadata": {},
   "source": [
    "## Linear"
   ]
  },
  {
   "cell_type": "code",
   "execution_count": 486,
   "metadata": {},
   "outputs": [],
   "source": [
    "# Empezamos por trabajar con el dataset original\n",
    "df_train, df_test = train_test_split(df)\n",
    "\n",
    "X_train = df_train.drop(columns=['price_aprox_usd','distance_BP','surface_uncovered_in_m2','price_per_usd'])\n",
    "X_test = df_test.drop(columns=['price_aprox_usd','distance_BP','surface_uncovered_in_m2','price_per_usd'])\n",
    "y_train, y_test = df_train.price_aprox_usd, df_test.price_aprox_usd"
   ]
  },
  {
   "cell_type": "code",
   "execution_count": 496,
   "metadata": {},
   "outputs": [
    {
     "name": "stdout",
     "output_type": "stream",
     "text": [
      "RMSE train: 27023.015645174168\n",
      "RMSE test: 27614.189731828963\n",
      "R2 train: -1.9018044301654227\n",
      "R2 test: -2.0481391664300337\n"
     ]
    }
   ],
   "source": [
    "scaler = StandardScaler()\n",
    "scaler.fit(X_train)\n",
    "X_train_scaled = scaler.transform(X_train)\n",
    "X_test_scaled = scaler.transform(X_test)\n",
    "\n",
    "linear = LinearRegression()\n",
    "linear.fit(X_train_scaled,y_train)\n",
    "y_train_pred = linear.predict(X_train_scaled)\n",
    "y_test_pred = linear.predict(X_test_scaled)\n",
    "r2_train = r2_score(y_train_pred,y_train)\n",
    "r2_test = r2_score(y_test_pred,y_test)\n",
    "rmse_train = np.sqrt(mean_squared_error(y_train_pred,y_train))\n",
    "rmse_test = np.sqrt(mean_squared_error(y_test_pred,y_test))\n",
    "print(f'RMSE train: {rmse_train}')\n",
    "print(f'RMSE test: {rmse_test}')\n",
    "print(f'R2 train: {r2_train}')\n",
    "print(f'R2 test: {r2_test}')"
   ]
  },
  {
   "cell_type": "markdown",
   "metadata": {},
   "source": [
    "Estos valores indican algo de overfitting (es mayor el RMSE en el test set que en el training) y un enorme grado de underfitting: el R2 es negativo, lo que indica que el promedio es un mejor estimador del precio que nuestro modelo. Para el análisis posterior vamos a hacer cross validation sobre el training set."
   ]
  },
  {
   "cell_type": "code",
   "execution_count": 419,
   "metadata": {},
   "outputs": [
    {
     "name": "stdout",
     "output_type": "stream",
     "text": [
      "Mean RMSE CV: 32555.70986327959\n",
      "Std Dev RMSE CV: 15750.089963764214\n"
     ]
    },
    {
     "data": {
      "text/html": [
       "<div>\n",
       "<style scoped>\n",
       "    .dataframe tbody tr th:only-of-type {\n",
       "        vertical-align: middle;\n",
       "    }\n",
       "\n",
       "    .dataframe tbody tr th {\n",
       "        vertical-align: top;\n",
       "    }\n",
       "\n",
       "    .dataframe thead th {\n",
       "        text-align: right;\n",
       "    }\n",
       "</style>\n",
       "<table border=\"1\" class=\"dataframe\">\n",
       "  <thead>\n",
       "    <tr style=\"text-align: right;\">\n",
       "      <th></th>\n",
       "      <th>train_rmse</th>\n",
       "      <th>test_rmse</th>\n",
       "    </tr>\n",
       "  </thead>\n",
       "  <tbody>\n",
       "    <tr>\n",
       "      <td>0</td>\n",
       "      <td>27584.725709</td>\n",
       "      <td>24717.786816</td>\n",
       "    </tr>\n",
       "    <tr>\n",
       "      <td>1</td>\n",
       "      <td>26909.158744</td>\n",
       "      <td>27829.989729</td>\n",
       "    </tr>\n",
       "    <tr>\n",
       "      <td>2</td>\n",
       "      <td>26867.893506</td>\n",
       "      <td>28190.787810</td>\n",
       "    </tr>\n",
       "    <tr>\n",
       "      <td>3</td>\n",
       "      <td>26913.953296</td>\n",
       "      <td>27781.496928</td>\n",
       "    </tr>\n",
       "    <tr>\n",
       "      <td>4</td>\n",
       "      <td>26882.577066</td>\n",
       "      <td>28268.249548</td>\n",
       "    </tr>\n",
       "    <tr>\n",
       "      <td>5</td>\n",
       "      <td>26945.614737</td>\n",
       "      <td>79719.162874</td>\n",
       "    </tr>\n",
       "    <tr>\n",
       "      <td>6</td>\n",
       "      <td>26947.208221</td>\n",
       "      <td>27520.832317</td>\n",
       "    </tr>\n",
       "    <tr>\n",
       "      <td>7</td>\n",
       "      <td>26957.122840</td>\n",
       "      <td>27401.026701</td>\n",
       "    </tr>\n",
       "    <tr>\n",
       "      <td>8</td>\n",
       "      <td>26973.090663</td>\n",
       "      <td>27181.195932</td>\n",
       "    </tr>\n",
       "    <tr>\n",
       "      <td>9</td>\n",
       "      <td>27025.929300</td>\n",
       "      <td>26946.569978</td>\n",
       "    </tr>\n",
       "  </tbody>\n",
       "</table>\n",
       "</div>"
      ],
      "text/plain": [
       "     train_rmse     test_rmse\n",
       "0  27584.725709  24717.786816\n",
       "1  26909.158744  27829.989729\n",
       "2  26867.893506  28190.787810\n",
       "3  26913.953296  27781.496928\n",
       "4  26882.577066  28268.249548\n",
       "5  26945.614737  79719.162874\n",
       "6  26947.208221  27520.832317\n",
       "7  26957.122840  27401.026701\n",
       "8  26973.090663  27181.195932\n",
       "9  27025.929300  26946.569978"
      ]
     },
     "execution_count": 419,
     "metadata": {},
     "output_type": "execute_result"
    }
   ],
   "source": [
    "linear_pipe = Pipeline([('scaler',StandardScaler()),('linear',LinearRegression())])\n",
    "linear_cv = cross_validate(linear_pipe,X_train,y_train,cv=10,scoring='neg_mean_squared_error',return_train_score=True)\n",
    "dftest = pd.DataFrame(linear_cv)\n",
    "dftest['train_rmse'],dftest['test_rmse'] = np.sqrt(-dftest['train_score']),np.sqrt(-dftest['test_score'])\n",
    "print(\"Mean RMSE CV: {}\".format(np.mean(np.sqrt(-linear_cv['test_score']))))\n",
    "print(\"Std Dev RMSE CV: {}\".format(np.std(np.sqrt(-linear_cv['test_score']))))\n",
    "dftest[['train_rmse','test_rmse']]"
   ]
  },
  {
   "cell_type": "markdown",
   "metadata": {},
   "source": [
    "De nuevo, mucho underfitting y un enorme outlier de overfitting, lo que haría que el promedio de RMSE no sea representativo. Esto puede ser una consecuencia de la partición específica de este cross validation o reflejar la naturaleza de los datos. Para investigarlo, vamos a hacer cross validation con distintas particiones a continuación. "
   ]
  },
  {
   "cell_type": "code",
   "execution_count": 396,
   "metadata": {},
   "outputs": [],
   "source": [
    "score_list = []\n",
    "for i in range(5,200,5):\n",
    "    scores = cross_val_score(linear_pipe,X_train,y_train,cv=i,scoring='neg_mean_squared_error')\n",
    "    scores = np.sqrt(-scores)\n",
    "    score_list.extend(scores)"
   ]
  },
  {
   "cell_type": "code",
   "execution_count": 395,
   "metadata": {},
   "outputs": [
    {
     "data": {
      "text/plain": [
       "{'whiskers': [<matplotlib.lines.Line2D at 0x29c9abca788>,\n",
       "  <matplotlib.lines.Line2D at 0x29c9abca408>],\n",
       " 'caps': [<matplotlib.lines.Line2D at 0x29c9abac288>,\n",
       "  <matplotlib.lines.Line2D at 0x29c9abacb88>],\n",
       " 'boxes': [<matplotlib.lines.Line2D at 0x29c9abcab48>],\n",
       " 'medians': [<matplotlib.lines.Line2D at 0x29c9abaca08>],\n",
       " 'fliers': [<matplotlib.lines.Line2D at 0x29c9aba5408>],\n",
       " 'means': []}"
      ]
     },
     "execution_count": 395,
     "metadata": {},
     "output_type": "execute_result"
    },
    {
     "data": {
      "image/png": "[encoded data removed]",
      "text/plain": [
       "<Figure size 720x720 with 1 Axes>"
      ]
     },
     "metadata": {
      "needs_background": "light"
     },
     "output_type": "display_data"
    }
   ],
   "source": [
    "plt.figure(figsize=(10,10))\n",
    "plt.boxplot(score_list)"
   ]
  },
  {
   "cell_type": "markdown",
   "metadata": {},
   "source": [
    "Evidentemente las particiones de cross validation implican diferencias enormes en RMSE. La razón es que el data set es sumamente ruidoso y heterogéneo, con lo cual una determinada partición, aunque esté hecha al azar, puede generar un modelo muy malo. Esto tiene dos implicancias: un gran peligro de overfitting según la partición hecha (para lo cual habrá que comparar las métricas del training set y el test set) y que usar el promedio de RMSE será engañoso, con lo cual probablemente la mediana sea una mejor medida."
   ]
  },
  {
   "cell_type": "markdown",
   "metadata": {},
   "source": [
    "## Polinomios"
   ]
  },
  {
   "cell_type": "code",
   "execution_count": null,
   "metadata": {},
   "outputs": [],
   "source": []
  },
  {
   "cell_type": "markdown",
   "metadata": {},
   "source": [
    "## Features Lineales"
   ]
  },
  {
   "cell_type": "code",
   "execution_count": 500,
   "metadata": {
    "scrolled": true
   },
   "outputs": [],
   "source": [
    "X_train_short = df_train[['distance_BP']]\n",
    "X_test_short = df_test[['distance_BP']]\n",
    "z_train, z_test = df_train.price_per_usd, df_test.price_per_usd"
   ]
  },
  {
   "cell_type": "code",
   "execution_count": 501,
   "metadata": {},
   "outputs": [
    {
     "name": "stdout",
     "output_type": "stream",
     "text": [
      "-0.0004540225693363542 -0.0014305309411004608\n"
     ]
    }
   ],
   "source": [
    "scaler2 = StandardScaler()\n",
    "scaler2.fit(X_train_short)\n",
    "X_train_scaled_short = scaler2.transform(X_train_short)\n",
    "X_test_scaled_short = scaler2.transform(X_test_short)\n",
    "\n",
    "linear2 = LinearRegression()\n",
    "linear2.fit(X_train_scaled_short,z_train)\n",
    "y_train_pred2 = np.array(linear2.predict(X_train_scaled_short)*df_train['surface_total_in_m2'])\n",
    "y_test_pred2 = np.array(linear2.predict(X_test_scaled_short)*df_test['surface_total_in_m2'])\n",
    "r2_train2 = r2_score(y_train_pred2,y_train)\n",
    "r2_test2 = r2_score(y_test_pred2,y_test)\n",
    "\n",
    "print(r2_train2,r2_test2)\n",
    "\n",
    "# r2_score = r2_score(linear_pipe,X_train_short,y_train)\n",
    "# rmse_cv = cross_val_score(linear_pipe,X_train_short,y_train,cv=10,scoring='neg_mean_squared_error')\n",
    "# rmse_cv_mean = np.sqrt(-rmse_cv).mean() \n",
    "# rmse_cv_std = np.sqrt(-rmse_cv).std()\n",
    "# print(f'RMSE Mean: {rmse_cv_mean}')"
   ]
  },
  {
   "cell_type": "markdown",
   "metadata": {},
   "source": [
    "## Ridge"
   ]
  },
  {
   "cell_type": "code",
   "execution_count": 468,
   "metadata": {},
   "outputs": [
    {
     "name": "stderr",
     "output_type": "stream",
     "text": [
      "C:\\Users\\Usuario\\Python\\Anaconda\\lib\\site-packages\\sklearn\\model_selection\\_search.py:814: DeprecationWarning: The default of the `iid` parameter will change from True to False in version 0.22 and will be removed in 0.24. This will change numeric results when test-set sizes are unequal.\n",
      "  DeprecationWarning)\n"
     ]
    },
    {
     "data": {
      "text/html": [
       "<div>\n",
       "<style scoped>\n",
       "    .dataframe tbody tr th:only-of-type {\n",
       "        vertical-align: middle;\n",
       "    }\n",
       "\n",
       "    .dataframe tbody tr th {\n",
       "        vertical-align: top;\n",
       "    }\n",
       "\n",
       "    .dataframe thead th {\n",
       "        text-align: right;\n",
       "    }\n",
       "</style>\n",
       "<table border=\"1\" class=\"dataframe\">\n",
       "  <thead>\n",
       "    <tr style=\"text-align: right;\">\n",
       "      <th></th>\n",
       "      <th>params</th>\n",
       "      <th>mean_rmse</th>\n",
       "    </tr>\n",
       "  </thead>\n",
       "  <tbody>\n",
       "    <tr>\n",
       "      <td>0</td>\n",
       "      <td>{'ridge__alpha': 0.001}</td>\n",
       "      <td>37755.816697</td>\n",
       "    </tr>\n",
       "    <tr>\n",
       "      <td>1</td>\n",
       "      <td>{'ridge__alpha': 0.01}</td>\n",
       "      <td>37755.023647</td>\n",
       "    </tr>\n",
       "    <tr>\n",
       "      <td>2</td>\n",
       "      <td>{'ridge__alpha': 0.1}</td>\n",
       "      <td>37748.985704</td>\n",
       "    </tr>\n",
       "    <tr>\n",
       "      <td>3</td>\n",
       "      <td>{'ridge__alpha': 1}</td>\n",
       "      <td>37738.026037</td>\n",
       "    </tr>\n",
       "    <tr>\n",
       "      <td>4</td>\n",
       "      <td>{'ridge__alpha': 10}</td>\n",
       "      <td>37759.197002</td>\n",
       "    </tr>\n",
       "    <tr>\n",
       "      <td>5</td>\n",
       "      <td>{'ridge__alpha': 100}</td>\n",
       "      <td>37913.772386</td>\n",
       "    </tr>\n",
       "    <tr>\n",
       "      <td>6</td>\n",
       "      <td>{'ridge__alpha': 1000}</td>\n",
       "      <td>38109.808185</td>\n",
       "    </tr>\n",
       "    <tr>\n",
       "      <td>7</td>\n",
       "      <td>{'ridge__alpha': 10000}</td>\n",
       "      <td>33850.519695</td>\n",
       "    </tr>\n",
       "    <tr>\n",
       "      <td>8</td>\n",
       "      <td>{'ridge__alpha': 100000}</td>\n",
       "      <td>31213.319738</td>\n",
       "    </tr>\n",
       "    <tr>\n",
       "      <td>9</td>\n",
       "      <td>{'ridge__alpha': 1000000}</td>\n",
       "      <td>31319.753980</td>\n",
       "    </tr>\n",
       "    <tr>\n",
       "      <td>10</td>\n",
       "      <td>{'ridge__alpha': 10000000}</td>\n",
       "      <td>31345.525672</td>\n",
       "    </tr>\n",
       "    <tr>\n",
       "      <td>11</td>\n",
       "      <td>{'ridge__alpha': 100000000}</td>\n",
       "      <td>31348.283116</td>\n",
       "    </tr>\n",
       "    <tr>\n",
       "      <td>12</td>\n",
       "      <td>{'ridge__alpha': 1000000000}</td>\n",
       "      <td>31348.560696</td>\n",
       "    </tr>\n",
       "  </tbody>\n",
       "</table>\n",
       "</div>"
      ],
      "text/plain": [
       "                          params     mean_rmse\n",
       "0        {'ridge__alpha': 0.001}  37755.816697\n",
       "1         {'ridge__alpha': 0.01}  37755.023647\n",
       "2          {'ridge__alpha': 0.1}  37748.985704\n",
       "3            {'ridge__alpha': 1}  37738.026037\n",
       "4           {'ridge__alpha': 10}  37759.197002\n",
       "5          {'ridge__alpha': 100}  37913.772386\n",
       "6         {'ridge__alpha': 1000}  38109.808185\n",
       "7        {'ridge__alpha': 10000}  33850.519695\n",
       "8       {'ridge__alpha': 100000}  31213.319738\n",
       "9      {'ridge__alpha': 1000000}  31319.753980\n",
       "10    {'ridge__alpha': 10000000}  31345.525672\n",
       "11   {'ridge__alpha': 100000000}  31348.283116\n",
       "12  {'ridge__alpha': 1000000000}  31348.560696"
      ]
     },
     "execution_count": 468,
     "metadata": {},
     "output_type": "execute_result"
    }
   ],
   "source": [
    "ridge_pipe = Pipeline([('scaler',StandardScaler()),('ridge',Ridge())])\n",
    "ridge_grid_params = {'ridge__alpha':[10**i for i in range(-3,10)]}\n",
    "ridge_grid = GridSearchCV(ridge_pipe,ridge_grid_params,cv=10,scoring='neg_mean_squared_error').fit(X_train,y_train)\n",
    "grid_df = pd.DataFrame(ridge_grid.cv_results_)\n",
    "grid_df['mean_rmse'] = np.sqrt(-grid_df.mean_test_score)\n",
    "grid_df[['params','mean_rmse']]"
   ]
  },
  {
   "cell_type": "code",
   "execution_count": 469,
   "metadata": {},
   "outputs": [
    {
     "data": {
      "text/html": [
       "<div>\n",
       "<style scoped>\n",
       "    .dataframe tbody tr th:only-of-type {\n",
       "        vertical-align: middle;\n",
       "    }\n",
       "\n",
       "    .dataframe tbody tr th {\n",
       "        vertical-align: top;\n",
       "    }\n",
       "\n",
       "    .dataframe thead th {\n",
       "        text-align: right;\n",
       "    }\n",
       "</style>\n",
       "<table border=\"1\" class=\"dataframe\">\n",
       "  <thead>\n",
       "    <tr style=\"text-align: right;\">\n",
       "      <th></th>\n",
       "      <th>params</th>\n",
       "      <th>mean_rmse</th>\n",
       "      <th>median_rmse</th>\n",
       "    </tr>\n",
       "  </thead>\n",
       "  <tbody>\n",
       "    <tr>\n",
       "      <td>0</td>\n",
       "      <td>1.000000e-03</td>\n",
       "      <td>33332.332710</td>\n",
       "      <td>27300.003668</td>\n",
       "    </tr>\n",
       "    <tr>\n",
       "      <td>1</td>\n",
       "      <td>1.000000e-02</td>\n",
       "      <td>33331.223506</td>\n",
       "      <td>27294.159900</td>\n",
       "    </tr>\n",
       "    <tr>\n",
       "      <td>2</td>\n",
       "      <td>1.000000e-01</td>\n",
       "      <td>33322.712953</td>\n",
       "      <td>27248.777829</td>\n",
       "    </tr>\n",
       "    <tr>\n",
       "      <td>3</td>\n",
       "      <td>1.000000e+00</td>\n",
       "      <td>33305.441538</td>\n",
       "      <td>27143.344477</td>\n",
       "    </tr>\n",
       "    <tr>\n",
       "      <td>4</td>\n",
       "      <td>1.000000e+01</td>\n",
       "      <td>33314.387204</td>\n",
       "      <td>27124.262806</td>\n",
       "    </tr>\n",
       "    <tr>\n",
       "      <td>5</td>\n",
       "      <td>1.000000e+02</td>\n",
       "      <td>33386.514319</td>\n",
       "      <td>27146.473282</td>\n",
       "    </tr>\n",
       "    <tr>\n",
       "      <td>6</td>\n",
       "      <td>1.000000e+03</td>\n",
       "      <td>33582.764468</td>\n",
       "      <td>27367.675236</td>\n",
       "    </tr>\n",
       "    <tr>\n",
       "      <td>7</td>\n",
       "      <td>1.000000e+04</td>\n",
       "      <td>32563.239244</td>\n",
       "      <td>29482.352107</td>\n",
       "    </tr>\n",
       "    <tr>\n",
       "      <td>8</td>\n",
       "      <td>1.000000e+05</td>\n",
       "      <td>31206.786361</td>\n",
       "      <td>31097.571647</td>\n",
       "    </tr>\n",
       "    <tr>\n",
       "      <td>9</td>\n",
       "      <td>1.000000e+06</td>\n",
       "      <td>31315.940868</td>\n",
       "      <td>31171.688297</td>\n",
       "    </tr>\n",
       "    <tr>\n",
       "      <td>10</td>\n",
       "      <td>1.000000e+07</td>\n",
       "      <td>31341.707552</td>\n",
       "      <td>31191.198838</td>\n",
       "    </tr>\n",
       "    <tr>\n",
       "      <td>11</td>\n",
       "      <td>1.000000e+08</td>\n",
       "      <td>31344.465480</td>\n",
       "      <td>31193.964274</td>\n",
       "    </tr>\n",
       "    <tr>\n",
       "      <td>12</td>\n",
       "      <td>1.000000e+09</td>\n",
       "      <td>31344.743120</td>\n",
       "      <td>31194.241021</td>\n",
       "    </tr>\n",
       "  </tbody>\n",
       "</table>\n",
       "</div>"
      ],
      "text/plain": [
       "          params     mean_rmse   median_rmse\n",
       "0   1.000000e-03  33332.332710  27300.003668\n",
       "1   1.000000e-02  33331.223506  27294.159900\n",
       "2   1.000000e-01  33322.712953  27248.777829\n",
       "3   1.000000e+00  33305.441538  27143.344477\n",
       "4   1.000000e+01  33314.387204  27124.262806\n",
       "5   1.000000e+02  33386.514319  27146.473282\n",
       "6   1.000000e+03  33582.764468  27367.675236\n",
       "7   1.000000e+04  32563.239244  29482.352107\n",
       "8   1.000000e+05  31206.786361  31097.571647\n",
       "9   1.000000e+06  31315.940868  31171.688297\n",
       "10  1.000000e+07  31341.707552  31191.198838\n",
       "11  1.000000e+08  31344.465480  31193.964274\n",
       "12  1.000000e+09  31344.743120  31194.241021"
      ]
     },
     "execution_count": 469,
     "metadata": {},
     "output_type": "execute_result"
    }
   ],
   "source": [
    "ridge_cvdict = []\n",
    "for x in ridge_grid_params['ridge__alpha']:\n",
    "    ridge_pipe = Pipeline([('scaler',StandardScaler()),('ridge',Ridge(alpha=x))])\n",
    "    cv = cross_validate(ridge_pipe,X_train,y_train,cv=10,scoring='neg_mean_squared_error')\n",
    "    ridge_cvdict.append([x,np.mean(np.sqrt(-cv['test_score']))\n",
    "                       ,np.median(np.sqrt(-cv['test_score']))])\n",
    "\n",
    "grid_df2 = pd.DataFrame(ridge_cvdict,columns=['params','mean_rmse','median_rmse'])\n",
    "grid_df2"
   ]
  },
  {
   "cell_type": "markdown",
   "metadata": {},
   "source": [
    "La mediana y el promedio se minimizan en valores distintos del parámetro alpha. Graficamos los RMSE para estudiar su comportamiento en función del parámetro alpha"
   ]
  },
  {
   "cell_type": "code",
   "execution_count": 470,
   "metadata": {},
   "outputs": [
    {
     "data": {
      "text/plain": [
       "(25768.049665533905, 35261.90269165981)"
      ]
     },
     "execution_count": 470,
     "metadata": {},
     "output_type": "execute_result"
    },
    {
     "data": {
      "image/png": "[encoded data removed]",
      "text/plain": [
       "<Figure size 432x288 with 1 Axes>"
      ]
     },
     "metadata": {
      "needs_background": "light"
     },
     "output_type": "display_data"
    }
   ],
   "source": [
    "import matplotlib.pyplot as plt\n",
    "plt.plot(grid_df2.params,grid_df2.mean_rmse,c='blue')\n",
    "plt.plot(grid_df2.params,grid_df2.median_rmse,c='red')\n",
    "plt.xscale(value='log')\n",
    "plt.xlim(np.min(grid_df2.params),np.max(grid_df2.params))\n",
    "plt.ylim(np.min(grid_df2.median_rmse)*0.95,np.max(grid_df2.mean_rmse)*1.05)"
   ]
  },
  {
   "cell_type": "markdown",
   "metadata": {},
   "source": [
    "Según los resultados del cross validation, tenemos un mínimo entre 10^4 y 10^6. Si queremos hilar un poco más fino, podemos optimizar un score de cross validation en función del parámetro alpha con SciPy."
   ]
  },
  {
   "cell_type": "code",
   "execution_count": 480,
   "metadata": {},
   "outputs": [
    {
     "name": "stdout",
     "output_type": "stream",
     "text": [
      "RMSE mínimo: 33304.89875624082\n",
      "alpha minarg: 1.514759581167915\n"
     ]
    }
   ],
   "source": [
    "from scipy.optimize import minimize\n",
    "\n",
    "def cvrmse_ridge_mean(alpha):\n",
    "    ridge_pipe = Pipeline([('scaler',StandardScaler()),('ridge',Ridge(alpha=alpha))])\n",
    "    result = cross_val_score(ridge_pipe,X_train,y_train,cv=10,scoring='neg_mean_squared_error')\n",
    "    result = np.mean(np.sqrt(-result))\n",
    "    return(result)\n",
    "\n",
    "min_ridge = minimize(cvrmse_ridge_mean,0.1,method='Powell')\n",
    "\n",
    "alpha_opt_mean = min_ridge.x \n",
    "    \n",
    "print(f'RMSE mínimo: {min_ridge.fun}')\n",
    "print(f'alpha minarg: {min_ridge.x}')"
   ]
  },
  {
   "cell_type": "code",
   "execution_count": 484,
   "metadata": {},
   "outputs": [
    {
     "name": "stdout",
     "output_type": "stream",
     "text": [
      "RMSE mínimo: 27109.4172379147\n",
      "alpha minarg: -12.91370623344552\n"
     ]
    }
   ],
   "source": [
    "def cvrmse_ridge_median(alpha):\n",
    "    ridge_pipe = Pipeline([('scaler',StandardScaler()),('ridge',Ridge(alpha=alpha))])\n",
    "    result = cross_val_score(ridge_pipe,X_train,y_train,cv=10,scoring='neg_mean_squared_error')\n",
    "    result = np.median(np.sqrt(-result))\n",
    "    return result\n",
    "\n",
    "min_ridge = minimize(cvrmse_ridge_median,0.1,method='Powell')\n",
    "\n",
    "alpha_opt_median = min_ridge.x \n",
    "    \n",
    "print(f'RMSE mínimo: {min_ridge.fun}')\n",
    "print(f'alpha minarg: {min_ridge.x}')"
   ]
  },
  {
   "cell_type": "markdown",
   "metadata": {},
   "source": [
    "La variable alpha_opt contiene el valor de alpha que minimiza la raíz del error cuadrático medio. Veamos ahora el RMSE sobre el conjunto de test."
   ]
  },
  {
   "cell_type": "code",
   "execution_count": 342,
   "metadata": {},
   "outputs": [
    {
     "name": "stdout",
     "output_type": "stream",
     "text": [
      "RMSE test: 30744.31991200139\n",
      "R2: 0.0608925953288012\n"
     ]
    }
   ],
   "source": [
    "ridge_opt = Ridge(alpha=alpha_opt).fit(X_train_scaled,y_train)\n",
    "y_pred_ridge = ridge_opt.predict(X_test_scaled)\n",
    "rmse_ridge = np.sqrt(mean_squared_error(y_test,y_pred_ridge))\n",
    "r2_ridge = r2_score(y_test,y_pred_ridge)\n",
    "print(f'RMSE test: {rmse_ridge}')\n",
    "print(f'R2: {r2_ridge}')"
   ]
  },
  {
   "cell_type": "code",
   "execution_count": 499,
   "metadata": {},
   "outputs": [
    {
     "name": "stdout",
     "output_type": "stream",
     "text": [
      "RMSE test: 27611.731089186196\n",
      "R2: 0.22311086760848797\n"
     ]
    }
   ],
   "source": [
    "ridge_opt = Ridge(alpha=1).fit(X_train_scaled,y_train)\n",
    "y_pred_ridge_opt = ridge_opt.predict(X_test_scaled)\n",
    "rmse_ridge = np.sqrt(mean_squared_error(y_test,y_pred_ridge_opt))\n",
    "r2_ridge_opt = r2_score(y_test,y_pred_ridge_opt)\n",
    "print(f'RMSE test: {rmse_ridge}')\n",
    "print(f'R2: {r2_ridge}')"
   ]
  },
  {
   "cell_type": "markdown",
   "metadata": {},
   "source": [
    "## Lasso"
   ]
  },
  {
   "cell_type": "code",
   "execution_count": null,
   "metadata": {},
   "outputs": [],
   "source": []
  },
  {
   "cell_type": "markdown",
   "metadata": {},
   "source": [
    "## Elastic Net"
   ]
  },
  {
   "cell_type": "code",
   "execution_count": null,
   "metadata": {},
   "outputs": [],
   "source": []
  }
 ],
 "metadata": {
  "kernelspec": {
   "display_name": "Python 3",
   "language": "python",
   "name": "python3"
  },
  "language_info": {
   "codemirror_mode": {
    "name": "ipython",
    "version": 3
   },
   "file_extension": ".py",
   "mimetype": "text/x-python",
   "name": "python",
   "nbconvert_exporter": "python",
   "pygments_lexer": "ipython3",
   "version": "3.7.4"
  }
 },
 "nbformat": 4,
 "nbformat_minor": 2
}
